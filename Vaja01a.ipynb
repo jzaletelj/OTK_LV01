{
 "cells": [
  {
   "cell_type": "markdown",
   "metadata": {},
   "source": [
    "# Podatkovne strukture in algoritmi / Data Structures and Algorithms\n",
    "\n",
    "## 1.Podatkovne strukture / Data structures\n",
    "\n",
    "Pri zasnovi algoritmov in postopov je pogosto ključnega pomena tudi, kako se bodo podatki in rezultati shranjevali ter prikazovali. Medtem ko pri osnovnem programiranju pogosto srečamo primitivne ter kompozitne tipe podatkovnih struktur, kot so char, double, integer ali array, se pri narednejših pristopih uporabljajo abstraktne podatkovne strukture, kot so drevesa, vrste in grafi. Za te strukture je značilno, da imajo definirana pravila in osnovne funkcije, s pomočjo katerih jih uporabljamo, dokončna implementacija strukture pa je odvisna od sistema / programerja / opreme, ki nam je na voljo.\n",
    "\n",
    "V okviru te laboratorijske vaje se boste tako spoznali z vrsto (queue) in skladom (stack). Na ti strukturi se bomo osredotočili, ker sta pogosto prisotni v simulacijah telekomunikacijskega prometa (omrežni predpomnilnik) oziroma programskih elementov (medpomnilnik).\n",
    "\n",
    "When designing algorithms the selection of proper data structures is of a crucial importance. Basic programming tasks often use primitive and composite data types such as *char, double, integer* or *array*. Advanced task however often rely on more complex (abstract) data structures such as *trees, queues, stack*s and *graphs*. The difference from primitive data types is that most of these data structures are simply a collection of rules and functions that can be implemented in many different ways - mostly depending on the environment / programmer / equipment used in the project.\n",
    "\n",
    "The scope of this exercise covers the stack and the queue and examples of their use.\n",
    "\n",
    "\n",
    "## Uvoz / Importing and creating a stack / queue\n",
    "\n",
    "In order to use the two data structures we first need to import them into our environment by running the cell bellow (shift+enter after selecting it). This gives us access to the queue (vrsta) and stack (sklad) defined for this exercise."
   ]
  },
  {
   "cell_type": "code",
   "execution_count": 3,
   "metadata": {},
   "outputs": [],
   "source": [
    "from structures import vrsta, sklad\n",
    "import numpy as np\n",
    "# %matplotlib notebook\n",
    "%matplotlib inline\n",
    "import matplotlib.pyplot as plt"
   ]
  },
  {
   "cell_type": "markdown",
   "metadata": {},
   "source": [
    "\n",
    "Za obe podatkovni strukturi imamo na voljo dve funkciji:\n",
    "●\tFunkcija PUSH, ki na primerno mesto v podatkovni strukturi vnese nov podatek.\n",
    "●\tFunkcija POP, ki iz primernega mesta v podatkovni strukturi zbriše podatek, ter ga vrne kot rezultat.\n",
    "\n",
    "Funkcije se nahajajo v datoteki structures.py. Ne glede na uporabljeno strukturo velja, da se kot vhodni podatek vedno poda struktura, na kateri želimo funkcijo uporabiti, ter v primeru PUSH tudi podatek, ki ga želimo v strukturo vnesti. Rezultat funkcije pa je vedno spremenjena podatkovna struktura, podatek o statusu ter v primeru POP tudi podatek, ki je bil iz strukture odstranjen. \n",
    "\n",
    "Either structure can now be created by simply using its constructor (name) and giving the information about the desired structure capacity.\n",
    "```a = vrsta(3)``` \n",
    "for example creates a queue that can hold three pieces of data and is stored under the name a.\n",
    "Each of these structures has a few core functions and attributes that we need use:\n",
    "* a.struct -> gives direct access to the list containing the data\n",
    "* a.push(x) -> adds x to the structure and returns 1 if succesfull and 0 otherwise\n",
    "* a.pop() -> removes the last element of the strucure and informs us if the structure is now empty or not\n",
    "* a.prosta_mesta -> holds information about the remaining capacitiy of the structure\n",
    "\n",
    "Run the example below:\n"
   ]
  },
  {
   "cell_type": "code",
   "execution_count": 9,
   "metadata": {},
   "outputs": [
    {
     "name": "stdout",
     "output_type": "stream",
     "text": [
      "[None None None]\n"
     ]
    }
   ],
   "source": [
    "a = vrsta(3) #declare a queue with capacity for 3 elements\n",
    "print(a.struct) #print it's contents\n",
    "\n",
    "#print(a.prosta_mesta) #check it's capacity and print it\n",
    "#a.push(10) #add the first number to it.\n",
    "#a.push(20)\n",
    "#print(a.struct)\n",
    "#a.push(30)\n",
    "#print(a.struct) #print it's contents\n",
    "\n",
    "# get element and remove it from the queue\n",
    "#[has_elements, element] = a.pop()\n",
    "#print(\"First element: \", element)\n",
    "#print(\"Is not empty: \", has_elements)\n",
    "#print(a.struct)\n",
    "#print(a.pop()) #see what happens if we try to remove some data\n",
    "#print(a.pop()) #and again, trying to remove data from an empty structure\n",
    "#print(a.pop())\n",
    "\n",
    "#a.push(100)\n",
    "#print(a.struct)\n"
   ]
  },
  {
   "cell_type": "code",
   "execution_count": null,
   "metadata": {},
   "outputs": [],
   "source": []
  },
  {
   "cell_type": "code",
   "execution_count": null,
   "metadata": {},
   "outputs": [],
   "source": [
    "\n"
   ]
  },
  {
   "cell_type": "markdown",
   "metadata": {},
   "source": [
    "## Naloga 1 / Task 1\n",
    "\n",
    "Kreirajte sklad željene velikosti, npr. 5, dodajte v sklad nekaj podatkov. Potem s funkcijo pop() jemljite podatke s sklada, ter ugotovite, v kakšnem vrstnem redu dobite podatke. Enako naredite za vrsto. \n",
    "\n",
    "Ugotovite: V čem je razlika med skladom in vrsto? Kaj se zgodi, če dodamo objekt, ko je struktura že polna? \n",
    "\n",
    "For a simple exercise declare a stack of you preferred size, add some data to it and check the order in which the data is retrieved when using the pop() function. Describe the difference between stack and the queue. What happens when adding new objects when the stack (queue) is already full?\n",
    "\n",
    "---"
   ]
  },
  {
   "cell_type": "code",
   "execution_count": 6,
   "metadata": {},
   "outputs": [
    {
     "name": "stdout",
     "output_type": "stream",
     "text": [
      "[None None None None None]\n"
     ]
    }
   ],
   "source": [
    "# SKLAD\n",
    "sk = sklad(5)\n",
    "print(sk.struct)\n",
    "#sk.push(10)\n",
    "#[full,el] = sk.pop()\n",
    "#print(\"Element \", el, \"  Poln: \", full)\n"
   ]
  },
  {
   "cell_type": "code",
   "execution_count": null,
   "metadata": {},
   "outputs": [],
   "source": [
    "# VRSTA"
   ]
  },
  {
   "cell_type": "markdown",
   "metadata": {},
   "source": [
    "## 2. Algoritmi / Algorithms\n",
    "\n",
    "Algoritmi so po definiciji navodilo, s katerim rešujemo problem, podano kot seznam korakov, ki nas pripeljejo do rešitve problema. V praksi to hkrati pomeni, da lahko za vsak algoritem obstaja poljubno mnogo rešitev (programov), ki ta algoritem izvajajo. Kompleksnejši algoritmi tako ponavadi tudi zahtevajo kompleksnejše tipe podatkov oziroma podatkovnih struktur, s pomočjo katerih lahko sledimo (vmesnim) rezultatom ter prikazujemo napredek postopka. Algoritme pogosto prikažemo tudi z grafom poteka korakov.\n",
    "Pravilna izbira podatkovne strukture ima tako velik vpliv na pravilno interpretacijo rezultatov. V sklopu laboratorijske vaje si bomo tako pogledali dva algoritma.\n",
    "\n",
    "By definition algorithms are a set of rules / instructions used to solve a set problem. These instructions are a series of steps which lead us to the solution of the problem. This means that we can implement each algorithm in many different ways, depending on the environment constraints (RAM, CPU speed etc.). Complex algorithms usually require complex data structures which enable us to monitor and report the progress. Algorithms can also be presented graphically. The choice of data structures plays an important part in the interpretation of results.\n",
    "\n",
    "We will present two algorithm implemenations - a simple number base converter and a more complex traffic buffer simulator.\n",
    "\n",
    "\n",
    "## 2.1 Pretvorba števil / Number base conversion\n",
    "\n",
    "The following two function convert a decimal number to binary and back. Note that we used the stack data structure as it retains the bit order i.e. the first bit returned by it's pop is the most important (highest power) one."
   ]
  },
  {
   "cell_type": "code",
   "execution_count": 12,
   "metadata": {},
   "outputs": [
    {
     "name": "stdout",
     "output_type": "stream",
     "text": [
      "1\n",
      "6\n",
      "0\n"
     ]
    }
   ],
   "source": [
    "print(13 % 2)\n",
    "print(13//2)\n",
    "print(6%2)"
   ]
  },
  {
   "cell_type": "code",
   "execution_count": 18,
   "metadata": {},
   "outputs": [],
   "source": [
    "def toBinary( n, x ):\n",
    "    # n = nuber to be converted\n",
    "    # x = number of bits\n",
    "    temp = sklad(x)\n",
    "    \n",
    "    while n > 0:\n",
    "        bit = int(n%2);\n",
    "        temp.push(bit);\n",
    "        n = np.floor(n/2);\n",
    "        bit = 0;    \n",
    "    return temp   \n",
    "    \n",
    "def toBaseN( n, x, base ):\n",
    "    # n = nuber to be converted\n",
    "    # x = number of bits\n",
    "    temp = sklad(x)\n",
    "    \n",
    "    while n > 0:\n",
    "        bit = int(n%2);\n",
    "        temp.push(bit);\n",
    "        n = np.floor(n/2);\n",
    "        bit = 0;    \n",
    "    return temp   \n",
    "\n",
    "def toDec(biti):\n",
    "    # biti: stack containing the bits\n",
    "    cifra = 0;\n",
    "    b = [i for i,x in enumerate(biti.struct) if x != None];\n",
    "    b = len(b);\n",
    "    potenca = 2**(b-1);\n",
    "    [s,d] = biti.pop();\n",
    "    while d is not None:\n",
    "        cifra = cifra + potenca * d;\n",
    "        potenca = potenca / 2;\n",
    "        s,d = biti.pop(); \n",
    "        # print(cifra, \", \", potenca, \", bit \", d)       \n",
    "    return cifra"
   ]
  },
  {
   "cell_type": "code",
   "execution_count": 19,
   "metadata": {},
   "outputs": [
    {
     "name": "stdout",
     "output_type": "stream",
     "text": [
      "[None None 0 1 0 0 1 0 1 1]\n"
     ]
    }
   ],
   "source": [
    "# Convert decimal number to bits (the function returns stack structure)\n",
    "x = toBinary(210,10)\n",
    "print(x.struct)\n"
   ]
  },
  {
   "cell_type": "code",
   "execution_count": 20,
   "metadata": {},
   "outputs": [
    {
     "name": "stdout",
     "output_type": "stream",
     "text": [
      "210.0\n"
     ]
    }
   ],
   "source": [
    "# Covert bits (given as stack) to number\n",
    "print(toDec(x))"
   ]
  },
  {
   "cell_type": "code",
   "execution_count": 21,
   "metadata": {},
   "outputs": [
    {
     "name": "stdout",
     "output_type": "stream",
     "text": [
      "[1 0 0 0]\n"
     ]
    },
    {
     "data": {
      "text/plain": [
       "1.0"
      ]
     },
     "execution_count": 21,
     "metadata": {},
     "output_type": "execute_result"
    }
   ],
   "source": [
    "result = toBinary(49, 4)\n",
    "print(result.struct)\n",
    "toDec(result)"
   ]
  },
  {
   "cell_type": "markdown",
   "metadata": {},
   "source": [
    "## Task 2: Konverzije števil / Number base conversions\n",
    "* Izvedi teste z obema konverzijama in preveri omejitve algoritma in rezultate. \n",
    "** Perform tests with both algorithms and check results and limitations.\n",
    "** Describe how they work and what are the limitations. Describe, how bits are represented in the selected data structure. \n",
    "* Nariši programski flow algoritma. Draw the workflow diagram of both algorithms. \n",
    "* (BONUS) Prilagodi algoritem, da bo deloval za poljubno bazo. How can we adjust the algorithms to work with any base\n",
    "* (BONUS) Napiši funkcijo, ki bo predstavila binarno število (bite) v običajnem vrstnem redu. \n",
    "** Write a function, which will return a representation of bits in usual format (Least significant bit is last, MSB is first)\n",
    "* (BONUS) Prilagodi algoritem, da bo avtomatsko določil potrebno število bitov. \n",
    "** Consider adjusting the first algorithm so that it automatically detects the number of bits required to convert the given input"
   ]
  },
  {
   "cell_type": "code",
   "execution_count": null,
   "metadata": {},
   "outputs": [],
   "source": [
    "def convertBits(bits)\n",
    "    "
   ]
  },
  {
   "cell_type": "markdown",
   "metadata": {},
   "source": [
    "## 2.2 Simulacija mrežnega prepomnilnika / Network buffer simulation\n",
    "\n",
    "Na področju telekomunikacij se prej ali slej srečamo z omrežji, prometom in povezavami med posameznimi točkami omrežja. Medtem ko se bomo z geometrijo omrežja ukvarjali v kasnejših laboratorijskih vajah, bomo v sklopu te laboratorijske vaje izdelali simulator mrežnega predpomnilnika. \n",
    "Tako v primerih strujanja videa (Youtube) kot prenosa obsežnejših datotek naletimo na uporabo medpomnilnika, ki zagotavlja boljšo uporabniško izkušnjo.\n",
    "Za namen laboratorijske vaje bomo tako pogledali nekaj različnih scenarijev uporabe medpomnilnika.\n",
    "\n",
    "One of the most common uses of a queue is shown directly in the data structures name - queuing data packages in ICT (or any other data-collecting field). A queue at it's most basic can be used as a buffer structure that stores incoming data packages and forwards them to the server when it can process them.\n",
    "\n",
    "We will cover network connections and graphs in our future exercises. In this case we will only simulate a single traffic source and destination with a buffer between them.\n",
    "\n",
    "### 1. Enojni medpomnilnik brez detekcije napak / Single buffer - no fault detection\n",
    "\n",
    "Imamo en izvor, en ponor ter en medpomnilnik. Nastavljamo lahko velikost medpomnilnika ter frekvenco s katero oddajata / sprejemata izvor ter ponor. Pri tem primeru nimamo detekcije napak, tako da v primeru, ko je vrsta že polna, poslane pakete izgubimo.\n",
    "\n",
    "In this case we will simulate a traffic source that has to send a set ammount of data packages at a constant rate. We first set the number of packages to be sent and the period between these packages (lower is faster).\n",
    "We also set how often the destination accepts the packages (again lower is faster)."
   ]
  },
  {
   "cell_type": "code",
   "execution_count": 11,
   "metadata": {},
   "outputs": [],
   "source": [
    "# NASTAVITVE SIMULACIJE\n",
    "\n",
    "k = 100; #number of packages to be sent\n",
    "source_rate = 1; #time delay between packages (lower number = greater transmission frequqency)\n",
    "terminus_rate = 2; #how often the packages are accepted. (lower number = greater read frequqncy)"
   ]
  },
  {
   "cell_type": "markdown",
   "metadata": {},
   "source": [
    "We then create the packages (as `k` numbers from 0 to 1), prepare an array that will store the received packages and last but not least prepare our queue - buffer.\n",
    "\n",
    "In this simulation we ignore any flags sent by the buffer - i.e. we do not know if the buffer is full or empty and whether or not we must re-send any of the data packages."
   ]
  },
  {
   "cell_type": "code",
   "execution_count": 13,
   "metadata": {},
   "outputs": [
    {
     "name": "stdout",
     "output_type": "stream",
     "text": [
      "[  1.   2.   3.   4.   5.   6.   7.   8.   9.  10.  11.  12.  13.  14.\n",
      "  15.  16.  17.  18.  19.  20.  21.  22.  23.  24.  25.  26.  27.  28.\n",
      "  29.  30.  31.  32.  33.  34.  35.  36.  37.  38.  39.  40.  41.  42.\n",
      "  43.  44.  45.  46.  47.  48.  49.  50.  51.  52.  53.  54.  55.  56.\n",
      "  57.  58.  59.  60.  61.  62.  63.  64.  65.  66.  67.  68.  69.  70.\n",
      "  71.  72.  73.  74.  75.  76.  77.  78.  79.  80.  81.  82.  83.  84.\n",
      "  85.  86.  87.  88.  89.  90.  91.  92.  93.  94.  95.  96.  97.  98.\n",
      "  99. 100.]\n"
     ]
    }
   ],
   "source": [
    "# PODATKI IN STRUKTURE\n",
    "promet = np.linspace(1,k,k);    # traffic, generiranje prometa\n",
    "print(promet)\n",
    "cilj = [];\n",
    "\n",
    "# we prepare the buffer\n",
    "buff_size = 40;\n",
    "buff = vrsta(buff_size)\n",
    "buffer_fill = np.array([]);"
   ]
  },
  {
   "cell_type": "code",
   "execution_count": 15,
   "metadata": {
    "scrolled": true
   },
   "outputs": [
    {
     "name": "stdout",
     "output_type": "stream",
     "text": [
      "we spent  2  cycles to transmit the data\n",
      "Out of  100  packages we received  89\n"
     ]
    },
    {
     "data": {
      "image/png": "[encoded data removed]",
      "text/plain": [
       "<Figure size 432x288 with 1 Axes>"
      ]
     },
     "metadata": {
      "needs_background": "light"
     },
     "output_type": "display_data"
    },
    {
     "name": "stdout",
     "output_type": "stream",
     "text": [
      "Izguba % :  11.0\n"
     ]
    }
   ],
   "source": [
    "# SIMULACIJA PROMETA\n",
    "\n",
    "time = 1;\n",
    "\n",
    "while len(np.nonzero(cilj != 99)) < k:\n",
    "    if time % source_rate == 0: #adding packages to the queue\n",
    "        if len(promet) > 0:\n",
    "            buff.push(promet[0])\n",
    "            promet = np.delete(promet,0);\n",
    "            \n",
    "    if time % terminus_rate == 0:   #reading from queue\n",
    "    \n",
    "             [status,data] = buff.pop();\n",
    "             if data is not None:\n",
    "                 cilj.append(data);\n",
    "             if len(promet) == 0 and status == 0:\n",
    "                 break;\n",
    "                 \n",
    "    x = [i for i,x in enumerate(buff.struct) if x != None]; #store info about how full the buffer is\n",
    "    # print(x)\n",
    "    buffer_fill = np.append(buffer_fill, len(x));\n",
    "    time += 1;\n",
    "\n",
    "\n",
    "#Provide info about the spent cycles and lost data\n",
    "print( \"we spent \" , time , \" cycles to transmit the data\")\n",
    "print( \"Out of \",k,\" packages we received \", len(cilj))\n",
    "#Plot\n",
    "plt.figure()\n",
    "plt.plot(buffer_fill);\n",
    "plt.show();\n",
    "\n",
    "izgube = (k-len(cilj))/k *100.0;\n",
    "print(\"Izguba % : \", izgube)"
   ]
  },
  {
   "cell_type": "code",
   "execution_count": null,
   "metadata": {},
   "outputs": [],
   "source": []
  },
  {
   "cell_type": "markdown",
   "metadata": {},
   "source": [
    "## Naloga 3 / Task 3: \n",
    "* Dodaj izračun % izgubljenih paketov. \n",
    "** Add calculation of the loss: percentage of lost packets. \n",
    "* Testiraj delovanje, s spreminjanjem velikosti medpomnilnika, potem hitrosti branja in pisanja, in opazuj delež izgubljenih paketov.\n",
    "** Perform some tests by changing buffer size, writing and reading rate, and observe loss rate (% of lost packets). Find the buffer size which ensures no lost packets. \n",
    "* (BONUS) Describe, how algorithm works. \n"
   ]
  },
  {
   "cell_type": "markdown",
   "metadata": {},
   "source": [
    "### 2. Medpomnilnik z detekcijo napak / Single buffer with fault detection\n",
    "\n",
    "Prejšnji primer nadgradimo tako, da dodamo detekcijo napak - torej, da vir zazna, če je medpomnilnik že poln in toliko časa ponovno pošilja trenutni paket, dokler le-ta ne dobi prostora v medpomnilniku.\n",
    "Kako to vpliva na čas, ki ga potrebujemo, da prenesemo vse pakete?\n",
    "\n",
    "Considering that we usually do not want to lose any data packages we now upgrade our simulation by adding fault detection -> our source now checks if the sent package was safely stored in the queue or not. If it was not it keeps resending it until it gets confirmation that it was stored.\n",
    "This can of course introduce noticeable delays in our transmission but ensures that we collect all the data packages."
   ]
  },
  {
   "cell_type": "code",
   "execution_count": null,
   "metadata": {},
   "outputs": [],
   "source": []
  },
  {
   "cell_type": "code",
   "execution_count": 16,
   "metadata": {
    "scrolled": true
   },
   "outputs": [
    {
     "name": "stdout",
     "output_type": "stream",
     "text": [
      "We spent  800  cycles to transmit all the data\n"
     ]
    },
    {
     "data": {
      "image/png": "[encoded data removed]",
      "text/plain": [
       "<Figure size 432x288 with 1 Axes>"
      ]
     },
     "metadata": {
      "needs_background": "light"
     },
     "output_type": "display_data"
    }
   ],
   "source": [
    "# NASTAVITVE\n",
    "\n",
    "k = 400; #number of packages to be sent\n",
    "source_rate = 1; #time delay between packages (lower number = greater transmission frequqency)\n",
    "terminus_rate = 2; #how often the packages are accepted. (lower number = greater read frequqncy)\n",
    "\n",
    "promet = np.linspace(1,k,k);\n",
    "cilj = [];\n",
    "\n",
    "# we prepare the buffer\n",
    "\n",
    "buff_size = 10;\n",
    "buff = vrsta(buff_size)\n",
    "buffer_fill = np.array([]);\n",
    "\n",
    "# SIMULACIJA\n",
    "time = 1\n",
    "\n",
    "while len(np.nonzero(cilj != 99)) < k:\n",
    "    if time % source_rate == 0: #storing data packages in the queue\n",
    "        if len(promet) > 0:\n",
    "            [status] = buff.push(promet[0])\n",
    "            if status == 1:\n",
    "                promet = np.delete(promet,0);\n",
    "            \n",
    "    if time % terminus_rate == 0:   #reading from queue\n",
    "             [status,data] = buff.pop();\n",
    "             if data != None:\n",
    "                 cilj.append(data);\n",
    "             if len(promet) == 0 and status == 0:\n",
    "                 break;\n",
    "                 \n",
    "    x = [i for i,x in enumerate(buff.struct) if x != None]; #\n",
    "    buffer_fill = np.append(buffer_fill, len(x));\n",
    "    time += 1;\n",
    "\n",
    "#Print the time spent transmitting\n",
    "print (\"We spent \" , time , \" cycles to transmit all the data\")\n",
    "\n",
    "#Plot\n",
    "plt.figure()\n",
    "plt.plot(buffer_fill);\n",
    "plt.show();"
   ]
  },
  {
   "cell_type": "markdown",
   "metadata": {},
   "source": [
    "## Naloga 4 / Task 4: \n",
    "* Izvedi testiranja tega algoritma z detekcijo napak glede na velikost medpomnilnika ter hitrosti branja in pisanja, ter ugotovi in primerjaj glede na prejšnji algoritem. \n",
    "** Perform tests by changing buffer size, writing and reading rate, and compare the transmission time to previous algorithm. \n",
    "* (BONUS) Describe, what are the differences and advantages of each type, if we want to transmit data without loss. "
   ]
  },
  {
   "cell_type": "code",
   "execution_count": null,
   "metadata": {},
   "outputs": [],
   "source": []
  }
 ],
 "metadata": {
  "kernelspec": {
   "display_name": "Python 3",
   "language": "python",
   "name": "python3"
  },
  "language_info": {
   "codemirror_mode": {
    "name": "ipython",
    "version": 3
   },
   "file_extension": ".py",
   "mimetype": "text/x-python",
   "name": "python",
   "nbconvert_exporter": "python",
   "pygments_lexer": "ipython3",
   "version": "3.6.9"
  },
  "pycharm": {
   "stem_cell": {
    "cell_type": "raw",
    "metadata": {
     "collapsed": false
    },
    "source": []
   }
  }
 },
 "nbformat": 4,
 "nbformat_minor": 4
}
